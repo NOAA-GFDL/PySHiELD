{
 "cells": [
  {
   "cell_type": "markdown",
   "id": "4765ff99-189a-49d8-bc2a-5eb7b256442b",
   "metadata": {},
   "source": [
    "# A notebook to test the physics implementation and infrastructure"
   ]
  },
  {
   "cell_type": "markdown",
   "id": "2be51da0-179c-4cdb-afda-f25f6f5a5402",
   "metadata": {},
   "source": [
    "## First set up parameters and our MPI environment:"
   ]
  },
  {
   "cell_type": "code",
   "execution_count": null,
   "id": "2c77ee08-8f7c-4f60-8a1a-6fd4040ff73c",
   "metadata": {},
   "outputs": [],
   "source": [
    "nx = 20\n",
    "ny = 20\n",
    "nz = 10\n",
    "nhalo = 3\n",
    "backend = \"numpy\"\n",
    "\n",
    "import ipyparallel as ipp\n",
    "\n",
    "layout = (1, 1)\n",
    "ntiles = 6\n",
    "# spinup cluster of MPI-workers\n",
    "num_ranks = ntiles * layout[0] * layout[1]\n",
    "\n",
    "cluster = ipp.Cluster(engines=\"mpi\", n=num_ranks).start_and_connect_sync()\n",
    "\n",
    "# broadcast configuration to all workers\n",
    "ar = cluster[:].push(\n",
    "    {\n",
    "        \"ntiles\": ntiles,\n",
    "        \"nx\": nx,\n",
    "        \"ny\": ny,\n",
    "        \"nz\": nz,\n",
    "        \"nhalo\": nhalo,\n",
    "        \"layout\": layout,\n",
    "        \"backend\": backend,\n",
    "    }\n",
    ")\n",
    "\n",
    "# start executing cells on the workers in parallel from here on\n",
    "%autopx"
   ]
  },
  {
   "cell_type": "code",
   "execution_count": null,
   "id": "96fb7f4e-1af1-40ee-a4f4-63548a85d31b",
   "metadata": {},
   "outputs": [],
   "source": [
    "from mpi4py import MPI\n",
    "\n",
    "mpi_comm = MPI.COMM_WORLD\n",
    "mpi_rank = mpi_comm.Get_rank()\n",
    "print(f\"Hello from rank {mpi_rank}\")"
   ]
  },
  {
   "cell_type": "markdown",
   "id": "1693f5ba-2ce3-4766-aa31-399d9e9c1243",
   "metadata": {},
   "source": [
    "## Next set up the NDSL structures we'll use:"
   ]
  },
  {
   "cell_type": "code",
   "execution_count": null,
   "id": "5c6ff95b-3170-49e6-a0a5-10d99ecd5c1b",
   "metadata": {},
   "outputs": [],
   "source": [
    "import gt4py.cartesian.gtscript as gtscript\n",
    "from gt4py.cartesian.gtscript import PARALLEL, computation, interval\n",
    "\n",
    "from ndsl.dsl.typing import Float, FloatField, FloatFieldIJ\n",
    "from ndsl import (\n",
    "    CompilationConfig,\n",
    "    CubedSphereCommunicator,\n",
    "    CubedSpherePartitioner,\n",
    "    GridIndexing,\n",
    "    Quantity,\n",
    "    QuantityFactory,\n",
    "    StencilConfig,\n",
    "    StencilFactory,\n",
    "    SubtileGridSizer,\n",
    "    TilePartitioner,\n",
    "    WrappedHaloUpdater,\n",
    ")\n",
    "from ndsl.constants import X_DIM, Y_DIM, Z_DIM \n",
    "from ndsl.typing import Communicator "
   ]
  },
  {
   "cell_type": "code",
   "execution_count": null,
   "id": "bcd771fc-bbaf-4f42-a389-f4fe1654a2de",
   "metadata": {},
   "outputs": [],
   "source": [
    "partitioner = CubedSpherePartitioner(TilePartitioner(layout))\n",
    "cs_communicator = CubedSphereCommunicator(mpi_comm, partitioner)\n",
    "\n",
    "sizer = SubtileGridSizer.from_tile_params(\n",
    "    nx_tile=nx,\n",
    "    ny_tile=ny,\n",
    "    nz=nz,\n",
    "    n_halo=nhalo,\n",
    "    extra_dim_lengths={},\n",
    "    layout=layout,\n",
    "    tile_partitioner=partitioner.tile,\n",
    "    tile_rank=cs_communicator.tile.rank,\n",
    ")\n",
    "\n",
    "# useful for easily allocating distributed data storages (fields)\n",
    "quantity_factory = QuantityFactory.from_backend(sizer=sizer, backend=backend)\n",
    "\n",
    "compilation_config = CompilationConfig(backend=backend, communicator=cs_communicator)\n",
    "\n",
    "stencil_config = StencilConfig(compare_to_numpy=False, compilation_config=compilation_config)\n",
    "\n",
    "grid_indexing = GridIndexing.from_sizer_and_communicator(sizer=sizer, comm=cs_communicator)\n",
    "\n",
    "stencil_factory = StencilFactory(config=stencil_config, grid_indexing=grid_indexing)"
   ]
  },
  {
   "cell_type": "markdown",
   "id": "a4d1e77b-5d31-4aa8-bda4-dfbf78aec609",
   "metadata": {},
   "source": [
    "# Set up the fields and the stencil:"
   ]
  },
  {
   "cell_type": "code",
   "execution_count": null,
   "id": "c5a5e58a-879e-4408-9b41-2f12418fa944",
   "metadata": {},
   "outputs": [],
   "source": [
    "from pySHiELD.stencils.physics import forward_euler\n",
    "\n",
    "def euler_stencil(q: FloatField, qt: FloatField, dt: Float):\n",
    "    with computation(PARALLEL), interval(...):\n",
    "        q = forward_euler(q, qt, dt)"
   ]
  },
  {
   "cell_type": "code",
   "execution_count": null,
   "id": "fcbe43bd-dcbe-4e89-95f3-64defc217057",
   "metadata": {},
   "outputs": [],
   "source": [
    "qq = quantity_factory.ones(dims=(X_DIM, Y_DIM, Z_DIM), units=\"none\", dtype=\"float\")\n",
    "qt = quantity_factory.ones(dims=(X_DIM, Y_DIM, Z_DIM), units=\"none\", dtype=\"float\")\n",
    "qt.view[:] *= 0.2\n",
    "dt = 0.5\n",
    "\n",
    "test_stencil = stencil_factory.from_origin_domain(\n",
    "    func = euler_stencil,\n",
    "    origin=grid_indexing.origin_compute(),\n",
    "    domain=grid_indexing.domain_compute(),\n",
    ")"
   ]
  },
  {
   "cell_type": "markdown",
   "id": "6ff8c409-27ae-461d-8a56-2cc7a6164e7b",
   "metadata": {},
   "source": [
    "## And run it:"
   ]
  },
  {
   "cell_type": "code",
   "execution_count": null,
   "id": "5aa7fab2-8c7e-4df7-8090-42f5860ab551",
   "metadata": {},
   "outputs": [],
   "source": [
    "test_stencil(qq, qt, dt)\n",
    "\n",
    "if mpi_rank == 0:\n",
    "    print(qq.data[:,:,0])"
   ]
  },
  {
   "cell_type": "code",
   "execution_count": null,
   "id": "89107085-ae46-4953-80c6-3f508339482a",
   "metadata": {},
   "outputs": [],
   "source": []
  }
 ],
 "metadata": {
  "kernelspec": {
   "display_name": "Python 3 (ipykernel)",
   "language": "python",
   "name": "python3"
  },
  "language_info": {
   "codemirror_mode": {
    "name": "ipython",
    "version": 3
   },
   "file_extension": ".py",
   "mimetype": "text/x-python",
   "name": "python",
   "nbconvert_exporter": "python",
   "pygments_lexer": "ipython3",
   "version": "3.8.18"
  }
 },
 "nbformat": 4,
 "nbformat_minor": 5
}
